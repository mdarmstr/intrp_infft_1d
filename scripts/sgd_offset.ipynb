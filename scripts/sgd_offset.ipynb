{
 "cells": [
  {
   "cell_type": "code",
   "execution_count": 4,
   "metadata": {},
   "outputs": [
    {
     "name": "stdout",
     "output_type": "stream",
     "text": [
      "c:\\Users\\Michael Armstrong\\Documents\\infft_develop\\intrp_infft_1d\\scripts\n"
     ]
    }
   ],
   "source": [
    "import os\n",
    "print(os.getcwd())"
   ]
  },
  {
   "cell_type": "code",
   "execution_count": 5,
   "metadata": {},
   "outputs": [
    {
     "ename": "ModuleNotFoundError",
     "evalue": "No module named 'intrp_infft_1d'",
     "output_type": "error",
     "traceback": [
      "\u001b[1;31m---------------------------------------------------------------------------\u001b[0m",
      "\u001b[1;31mModuleNotFoundError\u001b[0m                       Traceback (most recent call last)",
      "\u001b[1;32mc:\\Users\\Michael Armstrong\\Documents\\infft_develop\\intrp_infft_1d\\scripts\\sgd_offset.ipynb Cell 2\u001b[0m line \u001b[0;36m5\n\u001b[0;32m      <a href='vscode-notebook-cell:/c%3A/Users/Michael%20Armstrong/Documents/infft_develop/intrp_infft_1d/scripts/sgd_offset.ipynb#W1sZmlsZQ%3D%3D?line=1'>2</a>\u001b[0m \u001b[39mimport\u001b[39;00m \u001b[39mmatplotlib\u001b[39;00m\u001b[39m.\u001b[39;00m\u001b[39mpyplot\u001b[39;00m \u001b[39mas\u001b[39;00m \u001b[39mplt\u001b[39;00m\n\u001b[0;32m      <a href='vscode-notebook-cell:/c%3A/Users/Michael%20Armstrong/Documents/infft_develop/intrp_infft_1d/scripts/sgd_offset.ipynb#W1sZmlsZQ%3D%3D?line=2'>3</a>\u001b[0m \u001b[39mimport\u001b[39;00m \u001b[39mmultiprocessing\u001b[39;00m\n\u001b[1;32m----> <a href='vscode-notebook-cell:/c%3A/Users/Michael%20Armstrong/Documents/infft_develop/intrp_infft_1d/scripts/sgd_offset.ipynb#W1sZmlsZQ%3D%3D?line=4'>5</a>\u001b[0m \u001b[39mfrom\u001b[39;00m \u001b[39mintrp_infft_1d\u001b[39;00m\u001b[39m.\u001b[39;00m\u001b[39mintrp_infft_1d\u001b[39;00m \u001b[39mimport\u001b[39;00m \u001b[39m*\u001b[39m\n\u001b[0;32m      <a href='vscode-notebook-cell:/c%3A/Users/Michael%20Armstrong/Documents/infft_develop/intrp_infft_1d/scripts/sgd_offset.ipynb#W1sZmlsZQ%3D%3D?line=5'>6</a>\u001b[0m \u001b[39mfrom\u001b[39;00m \u001b[39mbatch_job\u001b[39;00m \u001b[39mimport\u001b[39;00m test_infft\n\u001b[0;32m      <a href='vscode-notebook-cell:/c%3A/Users/Michael%20Armstrong/Documents/infft_develop/intrp_infft_1d/scripts/sgd_offset.ipynb#W1sZmlsZQ%3D%3D?line=7'>8</a>\u001b[0m plt\u001b[39m.\u001b[39mstyle\u001b[39m.\u001b[39muse(\u001b[39m'\u001b[39m\u001b[39mtableau-colorblind10\u001b[39m\u001b[39m'\u001b[39m)\n",
      "\u001b[1;31mModuleNotFoundError\u001b[0m: No module named 'intrp_infft_1d'"
     ]
    }
   ],
   "source": [
    "import numpy as np\n",
    "import matplotlib.pyplot as plt\n",
    "import multiprocessing\n",
    "\n",
    "from intrp_infft_1d.intrp_infft_1d import *\n",
    "from batch_job import test_infft\n",
    "\n",
    "plt.style.use('tableau-colorblind10')\n",
    "\n",
    "if __name__ == '__main__':\n",
    "\n",
    "    df = pd.read_csv('T.Suelo.csv')\n",
    "    Ln = df.shape[0]\n",
    "    smplR = 1800\n",
    "    data_raw = df.iloc[0:,1:].to_numpy() #keep the missing values\n",
    "    inverse_mat = np.zeros_like(data_raw,dtype=\"complex128\")\n",
    "    residue_mat = np.zeros_like(data_raw,dtype=\"float64\")\n",
    "    rec_mat = np.zeros_like(data_raw,dtype=\"float64\")\n",
    "    mni = np.zeros((df.shape[1]-1,1))\n",
    "\n",
    "    N = 1024\n",
    "    t = np.linspace(-0.5,0.5,Ln,endpoint=False)\n",
    "    inverse_mat = np.zeros((N,df.shape[1]-1),dtype=\"complex128\")\n",
    "    #w = fjr(N)\n",
    "    w = sobk(N,1,2,1e-2)\n",
    "\n",
    "    dat = data_raw[:,0]\n",
    "\n",
    "    idx = dat != -9999\n",
    "    if sum(idx) % 2 != 0:\n",
    "        idx = change_last_true_to_false(idx)\n",
    "\n",
    "    A1 = ndft_mat(t[idx],N)\n",
    "    AhA1 = A1.H @ A1\n",
    "    ftot, _, _, _ = infft(t[idx], dat[idx] - np.mean(dat[idx]),N=N,AhA=AhA1,w=w)\n",
    "    ytot_mean = adjoint(t,ftot) + np.mean(dat[idx])\n",
    "\n",
    "    num_cores = multiprocessing.cpu_count() - 1\n",
    "\n",
    "    # 10 iterations, 5 batches each, eta = 0.25\n",
    "    q = np.zeros(5)\n",
    "    err_best = np.inf\n",
    "    stp_best = 0\n",
    "    stp_iter = Ln\n",
    "    eta = 0.25\n",
    "    itrs = []\n",
    "    errs = []\n",
    "    epochs = 7\n",
    "\n",
    "    for ii in range(epochs):\n",
    "        with multiprocessing.Pool(num_cores) as pool:\n",
    "            args = [(dat,idx,Ln,N,w) for _ in range(num_cores)]\n",
    "            results = pool.starmap(test_infft,args)\n",
    "        \n",
    "        for jj in range(num_cores):\n",
    "            if results[jj][0] < err_best:\n",
    "                err_best = results[jj][0]\n",
    "                stp_best = results[jj][1]\n",
    "                stp_iter = int(stp_iter - eta * (stp_iter - stp_best))\n",
    "        \n",
    "        itrs.append(stp_iter)\n",
    "        errs.append(err_best)\n",
    "\n",
    "        print(f\"epoch {ii} complete, error {errs[-1]}, stp_iter {stp_iter}\")\n",
    "\n",
    "    print(\"\")\n",
    "    #Plotting the results\n",
    "    t = np.linspace(-0.5,0.5,Ln,endpoint=False)\n",
    "    Mn = int(Ln/(t[stp_iter]+0.5)/(1-1/Ln))\n",
    "    tn = np.linspace(-0.5,0.5,Mn,endpoint=False)\n",
    "    idxi = np.pad(idx,(0,len(tn)-len(t)),constant_values=0)\n",
    "\n",
    "    A1 = ndft_mat(tn[idxi],N)\n",
    "    AhA1 = A1.H @ A1\n",
    "\n",
    "    fshift, _, _, _ = infft(tn[idxi], dat[idx] - np.mean(dat[idx]),N=N,AhA=AhA1,w=w)\n",
    "    ytot_shift = adjoint(tn,fshift) + np.mean(dat[idx])\n",
    "\n",
    "    # Creating subplots\n",
    "    fig, axs = plt.subplots(2, 1, figsize=(8, 6))\n",
    "\n",
    "    # Plotting scatter and line on the unshifted data\n",
    "    axs[0].scatter(t[idx], dat[idx], s=0.1,c='k',label='measurements')\n",
    "    axs[0].plot(t, ytot_mean, color='C1', label='unshifted')\n",
    "    axs[0].set_title('Naive time labels')\n",
    "    axs[0].set_xlabel(\"Normalized time values $t \\in [-0.5,0.5)$\")\n",
    "    axs[0].set_ylabel(\"Temperature ($^\\circ$C)\")\n",
    "    axs[0].legend()\n",
    "\n",
    "    # Plotting scatter and line on the second subplot\n",
    "    axs[1].scatter(tn[idxi], dat[idx], s=0.1,c='k',label='measurements')\n",
    "    axs[1].plot(tn, ytot_shift, color='C2', label='shifted')\n",
    "    axs[1].set_title('SGD shifted time labels')\n",
    "    axs[1].set_xlabel(\"Normalized time values $t \\in [-0.5,0.5)$\")\n",
    "    axs[1].set_ylabel(\"Temperature ($^\\circ$C)\")\n",
    "    axs[1].legend()\n",
    "\n",
    "    # Adjusting layout and displaying the plots\n",
    "    plt.tight_layout()\n",
    "    plt.show()\n",
    "    plt.savefig(\"comparison.png\")\n"
   ]
  }
 ],
 "metadata": {
  "kernelspec": {
   "display_name": "venv",
   "language": "python",
   "name": "python3"
  },
  "language_info": {
   "codemirror_mode": {
    "name": "ipython",
    "version": 3
   },
   "file_extension": ".py",
   "mimetype": "text/x-python",
   "name": "python",
   "nbconvert_exporter": "python",
   "pygments_lexer": "ipython3",
   "version": "3.10.11"
  }
 },
 "nbformat": 4,
 "nbformat_minor": 2
}
